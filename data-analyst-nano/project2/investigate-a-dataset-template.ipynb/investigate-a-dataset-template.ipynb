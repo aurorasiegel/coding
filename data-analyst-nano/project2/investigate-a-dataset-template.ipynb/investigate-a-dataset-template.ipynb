{
 "cells": [
  {
   "cell_type": "markdown",
   "metadata": {},
   "source": [
    "\n",
    "# Project: Investigate a Movie Dataset\n",
    "## Table of Contents\n",
    "<ul>\n",
    "<li><a href=\"#intro\">Introduction</a></li>\n",
    "<li><a href=\"#wrangling\">Data Wrangling</a></li>\n",
    "<li><a href=\"#eda\">Exploratory Data Analysis</a></li>\n",
    "<li><a href=\"#conclusions\">Conclusions</a></li>\n",
    "</ul>"
   ]
  },
  {
   "cell_type": "markdown",
   "metadata": {},
   "source": [
    "<a id='intro'></a>\n",
    "## Introduction\n",
    "\n",
    "The data set analyzed in this notebook is the TMDB Movies Database. This data set originiated from Kaggle and provided by Udacity. There is information on more than 5000 movies. The information used below is popularity, revenue, bugdet, and runtime. The information chosen from the data set is to dive into what metrics are good for figuring out how to measure a movies' success. \n",
    "\n",
    " \n"
   ]
  },
  {
   "cell_type": "markdown",
   "metadata": {},
   "source": [
    "\n"
   ]
  },
  {
   "cell_type": "code",
   "execution_count": 1,
   "metadata": {},
   "outputs": [
    {
     "name": "stderr",
     "output_type": "stream",
     "text": [
      "/home/aurora/anaconda3/lib/python3.6/site-packages/statsmodels/compat/pandas.py:56: FutureWarning: The pandas.core.datetools module is deprecated and will be removed in a future version. Please use the pandas.tseries module instead.\n",
      "  from pandas.core import datetools\n"
     ]
    }
   ],
   "source": [
    "import pandas as pd\n",
    "import numpy as np\n",
    "import scipy.stats as st\n",
    "import matplotlib.pyplot as plt\n",
    "import os\n",
    "from scipy.stats import pearsonr\n",
    "import seaborn as sns\n",
    "import statsmodels.api as sm\n",
    "from statsmodels.formula.api import ols\n",
    "%matplotlib inline\n"
   ]
  },
  {
   "cell_type": "code",
   "execution_count": 2,
   "metadata": {},
   "outputs": [],
   "source": [
    "pd.set_option('display.float_format', lambda x: '%.3f' % x) # surppresses scietific notation"
   ]
  },
  {
   "cell_type": "markdown",
   "metadata": {},
   "source": [
    "<a id='wrangling'></a>\n",
    "## Data Wrangling\n",
    "\n",
    "### General Properties"
   ]
  },
  {
   "cell_type": "code",
   "execution_count": 3,
   "metadata": {},
   "outputs": [],
   "source": [
    "# Load your data and print out a few lines. Perform operations to inspect data\n",
    "#   types and look for instances of missing or possibly errant data.\n",
    "data = pd.read_csv('../tmdb-movies.csv')\n"
   ]
  },
  {
   "cell_type": "code",
   "execution_count": 4,
   "metadata": {},
   "outputs": [
    {
     "data": {
      "text/html": [
       "<div>\n",
       "<style scoped>\n",
       "    .dataframe tbody tr th:only-of-type {\n",
       "        vertical-align: middle;\n",
       "    }\n",
       "\n",
       "    .dataframe tbody tr th {\n",
       "        vertical-align: top;\n",
       "    }\n",
       "\n",
       "    .dataframe thead th {\n",
       "        text-align: right;\n",
       "    }\n",
       "</style>\n",
       "<table border=\"1\" class=\"dataframe\">\n",
       "  <thead>\n",
       "    <tr style=\"text-align: right;\">\n",
       "      <th></th>\n",
       "      <th>id</th>\n",
       "      <th>imdb_id</th>\n",
       "      <th>popularity</th>\n",
       "      <th>budget</th>\n",
       "      <th>revenue</th>\n",
       "      <th>original_title</th>\n",
       "      <th>cast</th>\n",
       "      <th>homepage</th>\n",
       "      <th>director</th>\n",
       "      <th>tagline</th>\n",
       "      <th>...</th>\n",
       "      <th>overview</th>\n",
       "      <th>runtime</th>\n",
       "      <th>genres</th>\n",
       "      <th>production_companies</th>\n",
       "      <th>release_date</th>\n",
       "      <th>vote_count</th>\n",
       "      <th>vote_average</th>\n",
       "      <th>release_year</th>\n",
       "      <th>budget_adj</th>\n",
       "      <th>revenue_adj</th>\n",
       "    </tr>\n",
       "  </thead>\n",
       "  <tbody>\n",
       "    <tr>\n",
       "      <th>0</th>\n",
       "      <td>135397</td>\n",
       "      <td>tt0369610</td>\n",
       "      <td>32.986</td>\n",
       "      <td>150000000</td>\n",
       "      <td>1513528810</td>\n",
       "      <td>Jurassic World</td>\n",
       "      <td>Chris Pratt|Bryce Dallas Howard|Irrfan Khan|Vi...</td>\n",
       "      <td>http://www.jurassicworld.com/</td>\n",
       "      <td>Colin Trevorrow</td>\n",
       "      <td>The park is open.</td>\n",
       "      <td>...</td>\n",
       "      <td>Twenty-two years after the events of Jurassic ...</td>\n",
       "      <td>124</td>\n",
       "      <td>Action|Adventure|Science Fiction|Thriller</td>\n",
       "      <td>Universal Studios|Amblin Entertainment|Legenda...</td>\n",
       "      <td>6/9/15</td>\n",
       "      <td>5562</td>\n",
       "      <td>6.500</td>\n",
       "      <td>2015</td>\n",
       "      <td>137999939.280</td>\n",
       "      <td>1392445892.524</td>\n",
       "    </tr>\n",
       "    <tr>\n",
       "      <th>1</th>\n",
       "      <td>76341</td>\n",
       "      <td>tt1392190</td>\n",
       "      <td>28.420</td>\n",
       "      <td>150000000</td>\n",
       "      <td>378436354</td>\n",
       "      <td>Mad Max: Fury Road</td>\n",
       "      <td>Tom Hardy|Charlize Theron|Hugh Keays-Byrne|Nic...</td>\n",
       "      <td>http://www.madmaxmovie.com/</td>\n",
       "      <td>George Miller</td>\n",
       "      <td>What a Lovely Day.</td>\n",
       "      <td>...</td>\n",
       "      <td>An apocalyptic story set in the furthest reach...</td>\n",
       "      <td>120</td>\n",
       "      <td>Action|Adventure|Science Fiction|Thriller</td>\n",
       "      <td>Village Roadshow Pictures|Kennedy Miller Produ...</td>\n",
       "      <td>5/13/15</td>\n",
       "      <td>6185</td>\n",
       "      <td>7.100</td>\n",
       "      <td>2015</td>\n",
       "      <td>137999939.280</td>\n",
       "      <td>348161292.489</td>\n",
       "    </tr>\n",
       "    <tr>\n",
       "      <th>2</th>\n",
       "      <td>262500</td>\n",
       "      <td>tt2908446</td>\n",
       "      <td>13.113</td>\n",
       "      <td>110000000</td>\n",
       "      <td>295238201</td>\n",
       "      <td>Insurgent</td>\n",
       "      <td>Shailene Woodley|Theo James|Kate Winslet|Ansel...</td>\n",
       "      <td>http://www.thedivergentseries.movie/#insurgent</td>\n",
       "      <td>Robert Schwentke</td>\n",
       "      <td>One Choice Can Destroy You</td>\n",
       "      <td>...</td>\n",
       "      <td>Beatrice Prior must confront her inner demons ...</td>\n",
       "      <td>119</td>\n",
       "      <td>Adventure|Science Fiction|Thriller</td>\n",
       "      <td>Summit Entertainment|Mandeville Films|Red Wago...</td>\n",
       "      <td>3/18/15</td>\n",
       "      <td>2480</td>\n",
       "      <td>6.300</td>\n",
       "      <td>2015</td>\n",
       "      <td>101199955.472</td>\n",
       "      <td>271619025.408</td>\n",
       "    </tr>\n",
       "    <tr>\n",
       "      <th>3</th>\n",
       "      <td>140607</td>\n",
       "      <td>tt2488496</td>\n",
       "      <td>11.173</td>\n",
       "      <td>200000000</td>\n",
       "      <td>2068178225</td>\n",
       "      <td>Star Wars: The Force Awakens</td>\n",
       "      <td>Harrison Ford|Mark Hamill|Carrie Fisher|Adam D...</td>\n",
       "      <td>http://www.starwars.com/films/star-wars-episod...</td>\n",
       "      <td>J.J. Abrams</td>\n",
       "      <td>Every generation has a story.</td>\n",
       "      <td>...</td>\n",
       "      <td>Thirty years after defeating the Galactic Empi...</td>\n",
       "      <td>136</td>\n",
       "      <td>Action|Adventure|Science Fiction|Fantasy</td>\n",
       "      <td>Lucasfilm|Truenorth Productions|Bad Robot</td>\n",
       "      <td>12/15/15</td>\n",
       "      <td>5292</td>\n",
       "      <td>7.500</td>\n",
       "      <td>2015</td>\n",
       "      <td>183999919.040</td>\n",
       "      <td>1902723129.802</td>\n",
       "    </tr>\n",
       "    <tr>\n",
       "      <th>4</th>\n",
       "      <td>168259</td>\n",
       "      <td>tt2820852</td>\n",
       "      <td>9.335</td>\n",
       "      <td>190000000</td>\n",
       "      <td>1506249360</td>\n",
       "      <td>Furious 7</td>\n",
       "      <td>Vin Diesel|Paul Walker|Jason Statham|Michelle ...</td>\n",
       "      <td>http://www.furious7.com/</td>\n",
       "      <td>James Wan</td>\n",
       "      <td>Vengeance Hits Home</td>\n",
       "      <td>...</td>\n",
       "      <td>Deckard Shaw seeks revenge against Dominic Tor...</td>\n",
       "      <td>137</td>\n",
       "      <td>Action|Crime|Thriller</td>\n",
       "      <td>Universal Pictures|Original Film|Media Rights ...</td>\n",
       "      <td>4/1/15</td>\n",
       "      <td>2947</td>\n",
       "      <td>7.300</td>\n",
       "      <td>2015</td>\n",
       "      <td>174799923.088</td>\n",
       "      <td>1385748801.471</td>\n",
       "    </tr>\n",
       "  </tbody>\n",
       "</table>\n",
       "<p>5 rows × 21 columns</p>\n",
       "</div>"
      ],
      "text/plain": [
       "       id    imdb_id  popularity     budget     revenue  \\\n",
       "0  135397  tt0369610      32.986  150000000  1513528810   \n",
       "1   76341  tt1392190      28.420  150000000   378436354   \n",
       "2  262500  tt2908446      13.113  110000000   295238201   \n",
       "3  140607  tt2488496      11.173  200000000  2068178225   \n",
       "4  168259  tt2820852       9.335  190000000  1506249360   \n",
       "\n",
       "                 original_title  \\\n",
       "0                Jurassic World   \n",
       "1            Mad Max: Fury Road   \n",
       "2                     Insurgent   \n",
       "3  Star Wars: The Force Awakens   \n",
       "4                     Furious 7   \n",
       "\n",
       "                                                cast  \\\n",
       "0  Chris Pratt|Bryce Dallas Howard|Irrfan Khan|Vi...   \n",
       "1  Tom Hardy|Charlize Theron|Hugh Keays-Byrne|Nic...   \n",
       "2  Shailene Woodley|Theo James|Kate Winslet|Ansel...   \n",
       "3  Harrison Ford|Mark Hamill|Carrie Fisher|Adam D...   \n",
       "4  Vin Diesel|Paul Walker|Jason Statham|Michelle ...   \n",
       "\n",
       "                                            homepage          director  \\\n",
       "0                      http://www.jurassicworld.com/   Colin Trevorrow   \n",
       "1                        http://www.madmaxmovie.com/     George Miller   \n",
       "2     http://www.thedivergentseries.movie/#insurgent  Robert Schwentke   \n",
       "3  http://www.starwars.com/films/star-wars-episod...       J.J. Abrams   \n",
       "4                           http://www.furious7.com/         James Wan   \n",
       "\n",
       "                         tagline      ...        \\\n",
       "0              The park is open.      ...         \n",
       "1             What a Lovely Day.      ...         \n",
       "2     One Choice Can Destroy You      ...         \n",
       "3  Every generation has a story.      ...         \n",
       "4            Vengeance Hits Home      ...         \n",
       "\n",
       "                                            overview runtime  \\\n",
       "0  Twenty-two years after the events of Jurassic ...     124   \n",
       "1  An apocalyptic story set in the furthest reach...     120   \n",
       "2  Beatrice Prior must confront her inner demons ...     119   \n",
       "3  Thirty years after defeating the Galactic Empi...     136   \n",
       "4  Deckard Shaw seeks revenge against Dominic Tor...     137   \n",
       "\n",
       "                                      genres  \\\n",
       "0  Action|Adventure|Science Fiction|Thriller   \n",
       "1  Action|Adventure|Science Fiction|Thriller   \n",
       "2         Adventure|Science Fiction|Thriller   \n",
       "3   Action|Adventure|Science Fiction|Fantasy   \n",
       "4                      Action|Crime|Thriller   \n",
       "\n",
       "                                production_companies release_date vote_count  \\\n",
       "0  Universal Studios|Amblin Entertainment|Legenda...       6/9/15       5562   \n",
       "1  Village Roadshow Pictures|Kennedy Miller Produ...      5/13/15       6185   \n",
       "2  Summit Entertainment|Mandeville Films|Red Wago...      3/18/15       2480   \n",
       "3          Lucasfilm|Truenorth Productions|Bad Robot     12/15/15       5292   \n",
       "4  Universal Pictures|Original Film|Media Rights ...       4/1/15       2947   \n",
       "\n",
       "   vote_average  release_year    budget_adj    revenue_adj  \n",
       "0         6.500          2015 137999939.280 1392445892.524  \n",
       "1         7.100          2015 137999939.280  348161292.489  \n",
       "2         6.300          2015 101199955.472  271619025.408  \n",
       "3         7.500          2015 183999919.040 1902723129.802  \n",
       "4         7.300          2015 174799923.088 1385748801.471  \n",
       "\n",
       "[5 rows x 21 columns]"
      ]
     },
     "execution_count": 4,
     "metadata": {},
     "output_type": "execute_result"
    }
   ],
   "source": [
    "#This allows us to look inside of the dataset\n",
    "data.head()"
   ]
  },
  {
   "cell_type": "code",
   "execution_count": 5,
   "metadata": {},
   "outputs": [
    {
     "data": {
      "text/plain": [
       "(10866, 21)"
      ]
     },
     "execution_count": 5,
     "metadata": {},
     "output_type": "execute_result"
    }
   ],
   "source": [
    "data.shape #returns how many rows and column of the dataset"
   ]
  },
  {
   "cell_type": "code",
   "execution_count": 6,
   "metadata": {},
   "outputs": [
    {
     "data": {
      "text/html": [
       "<div>\n",
       "<style scoped>\n",
       "    .dataframe tbody tr th:only-of-type {\n",
       "        vertical-align: middle;\n",
       "    }\n",
       "\n",
       "    .dataframe tbody tr th {\n",
       "        vertical-align: top;\n",
       "    }\n",
       "\n",
       "    .dataframe thead th {\n",
       "        text-align: right;\n",
       "    }\n",
       "</style>\n",
       "<table border=\"1\" class=\"dataframe\">\n",
       "  <thead>\n",
       "    <tr style=\"text-align: right;\">\n",
       "      <th></th>\n",
       "      <th>id</th>\n",
       "      <th>popularity</th>\n",
       "      <th>budget</th>\n",
       "      <th>revenue</th>\n",
       "      <th>runtime</th>\n",
       "      <th>vote_count</th>\n",
       "      <th>vote_average</th>\n",
       "      <th>release_year</th>\n",
       "      <th>budget_adj</th>\n",
       "      <th>revenue_adj</th>\n",
       "    </tr>\n",
       "  </thead>\n",
       "  <tbody>\n",
       "    <tr>\n",
       "      <th>count</th>\n",
       "      <td>10866.000</td>\n",
       "      <td>10866.000</td>\n",
       "      <td>10866.000</td>\n",
       "      <td>10866.000</td>\n",
       "      <td>10866.000</td>\n",
       "      <td>10866.000</td>\n",
       "      <td>10866.000</td>\n",
       "      <td>10866.000</td>\n",
       "      <td>10866.000</td>\n",
       "      <td>10866.000</td>\n",
       "    </tr>\n",
       "    <tr>\n",
       "      <th>mean</th>\n",
       "      <td>66064.177</td>\n",
       "      <td>0.646</td>\n",
       "      <td>14625701.094</td>\n",
       "      <td>39823319.793</td>\n",
       "      <td>102.071</td>\n",
       "      <td>217.390</td>\n",
       "      <td>5.975</td>\n",
       "      <td>2001.323</td>\n",
       "      <td>17551039.823</td>\n",
       "      <td>51364363.253</td>\n",
       "    </tr>\n",
       "    <tr>\n",
       "      <th>std</th>\n",
       "      <td>92130.137</td>\n",
       "      <td>1.000</td>\n",
       "      <td>30913213.831</td>\n",
       "      <td>117003486.582</td>\n",
       "      <td>31.381</td>\n",
       "      <td>575.619</td>\n",
       "      <td>0.935</td>\n",
       "      <td>12.813</td>\n",
       "      <td>34306155.723</td>\n",
       "      <td>144632485.040</td>\n",
       "    </tr>\n",
       "    <tr>\n",
       "      <th>min</th>\n",
       "      <td>5.000</td>\n",
       "      <td>0.000</td>\n",
       "      <td>0.000</td>\n",
       "      <td>0.000</td>\n",
       "      <td>0.000</td>\n",
       "      <td>10.000</td>\n",
       "      <td>1.500</td>\n",
       "      <td>1960.000</td>\n",
       "      <td>0.000</td>\n",
       "      <td>0.000</td>\n",
       "    </tr>\n",
       "    <tr>\n",
       "      <th>25%</th>\n",
       "      <td>10596.250</td>\n",
       "      <td>0.208</td>\n",
       "      <td>0.000</td>\n",
       "      <td>0.000</td>\n",
       "      <td>90.000</td>\n",
       "      <td>17.000</td>\n",
       "      <td>5.400</td>\n",
       "      <td>1995.000</td>\n",
       "      <td>0.000</td>\n",
       "      <td>0.000</td>\n",
       "    </tr>\n",
       "    <tr>\n",
       "      <th>50%</th>\n",
       "      <td>20669.000</td>\n",
       "      <td>0.384</td>\n",
       "      <td>0.000</td>\n",
       "      <td>0.000</td>\n",
       "      <td>99.000</td>\n",
       "      <td>38.000</td>\n",
       "      <td>6.000</td>\n",
       "      <td>2006.000</td>\n",
       "      <td>0.000</td>\n",
       "      <td>0.000</td>\n",
       "    </tr>\n",
       "    <tr>\n",
       "      <th>75%</th>\n",
       "      <td>75610.000</td>\n",
       "      <td>0.714</td>\n",
       "      <td>15000000.000</td>\n",
       "      <td>24000000.000</td>\n",
       "      <td>111.000</td>\n",
       "      <td>145.750</td>\n",
       "      <td>6.600</td>\n",
       "      <td>2011.000</td>\n",
       "      <td>20853251.084</td>\n",
       "      <td>33697095.717</td>\n",
       "    </tr>\n",
       "    <tr>\n",
       "      <th>max</th>\n",
       "      <td>417859.000</td>\n",
       "      <td>32.986</td>\n",
       "      <td>425000000.000</td>\n",
       "      <td>2781505847.000</td>\n",
       "      <td>900.000</td>\n",
       "      <td>9767.000</td>\n",
       "      <td>9.200</td>\n",
       "      <td>2015.000</td>\n",
       "      <td>425000000.000</td>\n",
       "      <td>2827123750.412</td>\n",
       "    </tr>\n",
       "  </tbody>\n",
       "</table>\n",
       "</div>"
      ],
      "text/plain": [
       "              id  popularity        budget        revenue   runtime  \\\n",
       "count  10866.000   10866.000     10866.000      10866.000 10866.000   \n",
       "mean   66064.177       0.646  14625701.094   39823319.793   102.071   \n",
       "std    92130.137       1.000  30913213.831  117003486.582    31.381   \n",
       "min        5.000       0.000         0.000          0.000     0.000   \n",
       "25%    10596.250       0.208         0.000          0.000    90.000   \n",
       "50%    20669.000       0.384         0.000          0.000    99.000   \n",
       "75%    75610.000       0.714  15000000.000   24000000.000   111.000   \n",
       "max   417859.000      32.986 425000000.000 2781505847.000   900.000   \n",
       "\n",
       "       vote_count  vote_average  release_year    budget_adj    revenue_adj  \n",
       "count   10866.000     10866.000     10866.000     10866.000      10866.000  \n",
       "mean      217.390         5.975      2001.323  17551039.823   51364363.253  \n",
       "std       575.619         0.935        12.813  34306155.723  144632485.040  \n",
       "min        10.000         1.500      1960.000         0.000          0.000  \n",
       "25%        17.000         5.400      1995.000         0.000          0.000  \n",
       "50%        38.000         6.000      2006.000         0.000          0.000  \n",
       "75%       145.750         6.600      2011.000  20853251.084   33697095.717  \n",
       "max      9767.000         9.200      2015.000 425000000.000 2827123750.412  "
      ]
     },
     "execution_count": 6,
     "metadata": {},
     "output_type": "execute_result"
    }
   ],
   "source": [
    "data.describe() #returns statistics about the numerical columns"
   ]
  },
  {
   "cell_type": "markdown",
   "metadata": {},
   "source": [
    "> **Tip**: Make sure that you keep your reader informed on the steps that you are taking in your investigation. Follow every code cell, or every set of related code cells, with a markdown cell to describe to the reader what was found in the preceding cell(s). Try to make it so that the reader can then understand what they will be seeing in the following cell(s).\n",
    "\n",
    "### Data Cleaning (Replace this with more specific notes!)"
   ]
  },
  {
   "cell_type": "code",
   "execution_count": 7,
   "metadata": {},
   "outputs": [],
   "source": [
    "# Putting all of the columns that will be used in a data frame\n",
    "movie_data = data[['popularity', 'budget', 'revenue','runtime','genres']]"
   ]
  },
  {
   "cell_type": "code",
   "execution_count": 8,
   "metadata": {},
   "outputs": [
    {
     "data": {
      "text/plain": [
       "(10866, 5)"
      ]
     },
     "execution_count": 8,
     "metadata": {},
     "output_type": "execute_result"
    }
   ],
   "source": [
    "#checks the new data set\n",
    "movie_data.shape "
   ]
  },
  {
   "cell_type": "code",
   "execution_count": 9,
   "metadata": {},
   "outputs": [],
   "source": [
    "#Drops the rows that have atleast 1 NAN\n",
    "clean_mdata = movie_data.dropna() "
   ]
  },
  {
   "cell_type": "code",
   "execution_count": 10,
   "metadata": {},
   "outputs": [
    {
     "data": {
      "text/html": [
       "<div>\n",
       "<style scoped>\n",
       "    .dataframe tbody tr th:only-of-type {\n",
       "        vertical-align: middle;\n",
       "    }\n",
       "\n",
       "    .dataframe tbody tr th {\n",
       "        vertical-align: top;\n",
       "    }\n",
       "\n",
       "    .dataframe thead th {\n",
       "        text-align: right;\n",
       "    }\n",
       "</style>\n",
       "<table border=\"1\" class=\"dataframe\">\n",
       "  <thead>\n",
       "    <tr style=\"text-align: right;\">\n",
       "      <th></th>\n",
       "      <th>popularity</th>\n",
       "      <th>budget</th>\n",
       "      <th>revenue</th>\n",
       "      <th>runtime</th>\n",
       "    </tr>\n",
       "  </thead>\n",
       "  <tbody>\n",
       "    <tr>\n",
       "      <th>count</th>\n",
       "      <td>10843.000</td>\n",
       "      <td>10843.000</td>\n",
       "      <td>10843.000</td>\n",
       "      <td>10843.000</td>\n",
       "    </tr>\n",
       "    <tr>\n",
       "      <th>mean</th>\n",
       "      <td>0.647</td>\n",
       "      <td>14656724.439</td>\n",
       "      <td>39907792.389</td>\n",
       "      <td>102.138</td>\n",
       "    </tr>\n",
       "    <tr>\n",
       "      <th>std</th>\n",
       "      <td>1.001</td>\n",
       "      <td>30938637.671</td>\n",
       "      <td>117113132.251</td>\n",
       "      <td>31.293</td>\n",
       "    </tr>\n",
       "    <tr>\n",
       "      <th>min</th>\n",
       "      <td>0.000</td>\n",
       "      <td>0.000</td>\n",
       "      <td>0.000</td>\n",
       "      <td>0.000</td>\n",
       "    </tr>\n",
       "    <tr>\n",
       "      <th>25%</th>\n",
       "      <td>0.208</td>\n",
       "      <td>0.000</td>\n",
       "      <td>0.000</td>\n",
       "      <td>90.000</td>\n",
       "    </tr>\n",
       "    <tr>\n",
       "      <th>50%</th>\n",
       "      <td>0.385</td>\n",
       "      <td>0.000</td>\n",
       "      <td>0.000</td>\n",
       "      <td>99.000</td>\n",
       "    </tr>\n",
       "    <tr>\n",
       "      <th>75%</th>\n",
       "      <td>0.715</td>\n",
       "      <td>15000000.000</td>\n",
       "      <td>24136754.000</td>\n",
       "      <td>111.000</td>\n",
       "    </tr>\n",
       "    <tr>\n",
       "      <th>max</th>\n",
       "      <td>32.986</td>\n",
       "      <td>425000000.000</td>\n",
       "      <td>2781505847.000</td>\n",
       "      <td>900.000</td>\n",
       "    </tr>\n",
       "  </tbody>\n",
       "</table>\n",
       "</div>"
      ],
      "text/plain": [
       "       popularity        budget        revenue   runtime\n",
       "count   10843.000     10843.000      10843.000 10843.000\n",
       "mean        0.647  14656724.439   39907792.389   102.138\n",
       "std         1.001  30938637.671  117113132.251    31.293\n",
       "min         0.000         0.000          0.000     0.000\n",
       "25%         0.208         0.000          0.000    90.000\n",
       "50%         0.385         0.000          0.000    99.000\n",
       "75%         0.715  15000000.000   24136754.000   111.000\n",
       "max        32.986 425000000.000 2781505847.000   900.000"
      ]
     },
     "execution_count": 10,
     "metadata": {},
     "output_type": "execute_result"
    }
   ],
   "source": [
    "#Now we take a peak at the clean dataset\n",
    "clean_mdata.describe()"
   ]
  },
  {
   "cell_type": "code",
   "execution_count": 11,
   "metadata": {},
   "outputs": [],
   "source": [
    "# drop if there are duplicates, just in case\n",
    "clean_mdata = clean_mdata.drop_duplicates()"
   ]
  },
  {
   "cell_type": "code",
   "execution_count": 12,
   "metadata": {},
   "outputs": [],
   "source": [
    "clean_mdata = clean_mdata[(clean_mdata != 0).all(1)]"
   ]
  },
  {
   "cell_type": "code",
   "execution_count": 26,
   "metadata": {},
   "outputs": [
    {
     "data": {
      "text/plain": [
       "0"
      ]
     },
     "execution_count": 26,
     "metadata": {},
     "output_type": "execute_result"
    }
   ],
   "source": [
    "#take another peak\n",
    "sum(clean_mdata.duplicated())"
   ]
  },
  {
   "cell_type": "code",
   "execution_count": 27,
   "metadata": {},
   "outputs": [
    {
     "name": "stdout",
     "output_type": "stream",
     "text": [
      "<class 'pandas.core.frame.DataFrame'>\n",
      "Int64Index: 3854 entries, 0 to 10848\n",
      "Data columns (total 6 columns):\n",
      "popularity      3854 non-null float64\n",
      "budget          3854 non-null int64\n",
      "revenue         3854 non-null int64\n",
      "runtime         3854 non-null int64\n",
      "genres          3854 non-null object\n",
      "gross_profit    3854 non-null int64\n",
      "dtypes: float64(1), int64(4), object(1)\n",
      "memory usage: 210.8+ KB\n"
     ]
    }
   ],
   "source": [
    "clean_mdata.info()"
   ]
  },
  {
   "cell_type": "code",
   "execution_count": 14,
   "metadata": {},
   "outputs": [],
   "source": [
    "#function that separates the genres for each movie \n",
    "def add_genre(column):\n",
    "    #will take a column, and separate the string from the '|'\n",
    "    data = clean_mdata[column].str.cat(sep = '|')\n",
    "    \n",
    "    #giving pandas series and storing the values separately\n",
    "    data = pd.Series(data.split('|'))\n",
    "    \n",
    "    #arranging in descending order\n",
    "    count = data.value_counts(ascending = False)\n",
    "    \n",
    "    return count\n"
   ]
  },
  {
   "cell_type": "code",
   "execution_count": 15,
   "metadata": {},
   "outputs": [],
   "source": [
    "#variable to store the retured value\n",
    "genre_count = add_genre('genres')\n"
   ]
  },
  {
   "cell_type": "code",
   "execution_count": 16,
   "metadata": {},
   "outputs": [],
   "source": [
    "# Formula for gross profit: Revenue - Budget\n",
    "clean_mdata['gross_profit'] = clean_mdata['revenue'] - clean_mdata['budget']"
   ]
  },
  {
   "cell_type": "code",
   "execution_count": 17,
   "metadata": {},
   "outputs": [
    {
     "data": {
      "text/html": [
       "<div>\n",
       "<style scoped>\n",
       "    .dataframe tbody tr th:only-of-type {\n",
       "        vertical-align: middle;\n",
       "    }\n",
       "\n",
       "    .dataframe tbody tr th {\n",
       "        vertical-align: top;\n",
       "    }\n",
       "\n",
       "    .dataframe thead th {\n",
       "        text-align: right;\n",
       "    }\n",
       "</style>\n",
       "<table border=\"1\" class=\"dataframe\">\n",
       "  <thead>\n",
       "    <tr style=\"text-align: right;\">\n",
       "      <th></th>\n",
       "      <th>popularity</th>\n",
       "      <th>budget</th>\n",
       "      <th>revenue</th>\n",
       "      <th>runtime</th>\n",
       "      <th>genres</th>\n",
       "      <th>gross_profit</th>\n",
       "    </tr>\n",
       "  </thead>\n",
       "  <tbody>\n",
       "    <tr>\n",
       "      <th>0</th>\n",
       "      <td>32.986</td>\n",
       "      <td>150000000</td>\n",
       "      <td>1513528810</td>\n",
       "      <td>124</td>\n",
       "      <td>Action|Adventure|Science Fiction|Thriller</td>\n",
       "      <td>1363528810</td>\n",
       "    </tr>\n",
       "    <tr>\n",
       "      <th>1</th>\n",
       "      <td>28.420</td>\n",
       "      <td>150000000</td>\n",
       "      <td>378436354</td>\n",
       "      <td>120</td>\n",
       "      <td>Action|Adventure|Science Fiction|Thriller</td>\n",
       "      <td>228436354</td>\n",
       "    </tr>\n",
       "    <tr>\n",
       "      <th>2</th>\n",
       "      <td>13.113</td>\n",
       "      <td>110000000</td>\n",
       "      <td>295238201</td>\n",
       "      <td>119</td>\n",
       "      <td>Adventure|Science Fiction|Thriller</td>\n",
       "      <td>185238201</td>\n",
       "    </tr>\n",
       "    <tr>\n",
       "      <th>3</th>\n",
       "      <td>11.173</td>\n",
       "      <td>200000000</td>\n",
       "      <td>2068178225</td>\n",
       "      <td>136</td>\n",
       "      <td>Action|Adventure|Science Fiction|Fantasy</td>\n",
       "      <td>1868178225</td>\n",
       "    </tr>\n",
       "    <tr>\n",
       "      <th>4</th>\n",
       "      <td>9.335</td>\n",
       "      <td>190000000</td>\n",
       "      <td>1506249360</td>\n",
       "      <td>137</td>\n",
       "      <td>Action|Crime|Thriller</td>\n",
       "      <td>1316249360</td>\n",
       "    </tr>\n",
       "  </tbody>\n",
       "</table>\n",
       "</div>"
      ],
      "text/plain": [
       "   popularity     budget     revenue  runtime  \\\n",
       "0      32.986  150000000  1513528810      124   \n",
       "1      28.420  150000000   378436354      120   \n",
       "2      13.113  110000000   295238201      119   \n",
       "3      11.173  200000000  2068178225      136   \n",
       "4       9.335  190000000  1506249360      137   \n",
       "\n",
       "                                      genres  gross_profit  \n",
       "0  Action|Adventure|Science Fiction|Thriller    1363528810  \n",
       "1  Action|Adventure|Science Fiction|Thriller     228436354  \n",
       "2         Adventure|Science Fiction|Thriller     185238201  \n",
       "3   Action|Adventure|Science Fiction|Fantasy    1868178225  \n",
       "4                      Action|Crime|Thriller    1316249360  "
      ]
     },
     "execution_count": 17,
     "metadata": {},
     "output_type": "execute_result"
    }
   ],
   "source": [
    "clean_mdata.head()"
   ]
  },
  {
   "cell_type": "code",
   "execution_count": 18,
   "metadata": {},
   "outputs": [],
   "source": [
    "#Defining these variables here to see a statisitcal correlation in \n",
    "#bivariate analysis. Separating my independet and dependent variables\n",
    "pop = clean_mdata['popularity']\n",
    "ygp = clean_mdata['gross_profit']\n",
    "\n",
    "xgen = clean_mdata['genres']\n",
    "xrev = clean_mdata['revenue']\n",
    "xbudget = clean_mdata['budget']"
   ]
  },
  {
   "cell_type": "markdown",
   "metadata": {},
   "source": [
    "## Exploratory Data Analysis\n",
    "\n",
    "\n",
    "\n",
    "### Research Question 1 (What is the relationship between popularity of a movie and it's budget?)"
   ]
  },
  {
   "cell_type": "markdown",
   "metadata": {},
   "source": [
    "Below is a scatter plot that decribes the relationship between budget and popularity. Budget is the independent variable and popularity is the dependent variable. The graph to the left shows the relationship in log, while the plot to the right shows the relationship on the varaibles regular scale. The log transformation has spread out the data a bit, in order to see how much budget influences popularity. In most cases, the higher the budget the more popular a movie was. In a few cases, we can see that a low budget had a middle popularity. The same goes for a few high budget movies that had a very low popularity. So, overall, if the movie had a high budget it looks to correlate with moderate to high popularity. Popularity and budget are also run through a Pearson's R correlation and are statistically significant. "
   ]
  },
  {
   "cell_type": "code",
   "execution_count": 19,
   "metadata": {},
   "outputs": [
    {
     "data": {
      "text/plain": [
       "Text(0,0.5,'popularity')"
      ]
     },
     "execution_count": 19,
     "metadata": {},
     "output_type": "execute_result"
    },
    {
     "data": {
      "image/png": "[encoded data removed]",
      "text/plain": [
       "<matplotlib.figure.Figure at 0x7f84f9685b70>"
      ]
     },
     "metadata": {},
     "output_type": "display_data"
    }
   ],
   "source": [
    "fig, (ax1,ax2) = plt.subplots(1, 2, figsize=(8,4))\n",
    "ax1.plot(clean_mdata['budget'], clean_mdata['popularity'], '.')\n",
    "ax1.set_yscale('log')\n",
    "ax1.set_xscale('log')\n",
    "ax1.set_xlabel('budget')\n",
    "ax1.set_ylabel('popularity')\n",
    "ax2.plot(clean_mdata['budget'], clean_mdata['popularity'], '.')\n",
    "ax2.set_xlabel('budget')\n",
    "ax2.set_ylabel('popularity')"
   ]
  },
  {
   "cell_type": "code",
   "execution_count": 20,
   "metadata": {},
   "outputs": [
    {
     "data": {
      "text/plain": [
       "(0.4469866930400051, 1.0513638511750907e-188)"
      ]
     },
     "execution_count": 20,
     "metadata": {},
     "output_type": "execute_result"
    }
   ],
   "source": [
    "#Budget and Population are statistically significant with an alpha of 0.05\n",
    "pearsonr(xbudget, pop)"
   ]
  },
  {
   "cell_type": "markdown",
   "metadata": {},
   "source": [
    "### Research Question 2  (Is there an association between a movies' revenue and how popular it is?)"
   ]
  },
  {
   "cell_type": "markdown",
   "metadata": {},
   "source": [
    "Below is a scatter plot between the variables popularity and revenue. THe plot on the left is in log scale and the plot of the right is the default values. The plot that is in log shows that the higher the revenue the more popular the movie was. There were cases that show movies with high revenue were not very popular, but the majority shows that if a movie had a medium revenue then it was popular. These varaibles are statisitcally significant, which we can tell by running them with a Pearson's R correlation test. "
   ]
  },
  {
   "cell_type": "code",
   "execution_count": 21,
   "metadata": {},
   "outputs": [
    {
     "data": {
      "text/plain": [
       "Text(0,0.5,'popularity')"
      ]
     },
     "execution_count": 21,
     "metadata": {},
     "output_type": "execute_result"
    },
    {
     "data": {
      "image/png": "[encoded data removed]",
      "text/plain": [
       "<matplotlib.figure.Figure at 0x7f84f7d89c50>"
      ]
     },
     "metadata": {},
     "output_type": "display_data"
    }
   ],
   "source": [
    "#clean_mdata.plot(x='revenue',y='popularity',kind='scatter')\n",
    "fig, (ax1, ax2) = plt.subplots(1, 2, figsize=(8,4))\n",
    "ax1.plot(clean_mdata['revenue'], clean_mdata['popularity'], '.')\n",
    "ax1.set_yscale('log')\n",
    "ax1.set_xscale('log')\n",
    "ax1.set_xlabel('revenue')\n",
    "ax1.set_ylabel('popularity')\n",
    "ax2.plot(clean_mdata['revenue'], clean_mdata['popularity'], '.')\n",
    "ax2.set_xlabel('revenue')\n",
    "ax2.set_ylabel('popularity')"
   ]
  },
  {
   "cell_type": "code",
   "execution_count": 22,
   "metadata": {},
   "outputs": [
    {
     "data": {
      "text/plain": [
       "(0.6155346545546607, 0.0)"
      ]
     },
     "execution_count": 22,
     "metadata": {},
     "output_type": "execute_result"
    }
   ],
   "source": [
    "pearsonr(xrev, pop)"
   ]
  },
  {
   "cell_type": "markdown",
   "metadata": {},
   "source": [
    "### Research Question 3  (Is there a relationship between genre and gross profit?)"
   ]
  },
  {
   "cell_type": "markdown",
   "metadata": {},
   "source": [
    "Below is a histogram of genre and gross profit. Which genre's did had the highest gross profit? Action, Adventure, Science Fiction,Family, Fantasy, and Animation. The gren's that did the worst are: Foreign, Documentary, Horror, and TV Movie. "
   ]
  },
  {
   "cell_type": "code",
   "execution_count": 23,
   "metadata": {},
   "outputs": [],
   "source": [
    "genre_profit = genre_count.copy()\n",
    "for genre in genre_count.keys():\n",
    "    has_genre = clean_mdata['genres'].str.contains(genre)\n",
    "    genre_profit[genre] = clean_mdata['gross_profit'][has_genre].mean()\n",
    "\n",
    "#ax = genre_profit.plot(kind='bar', title='Avg Gross Profit By Genre')\n",
    "#ax.set_ylabel('Avg Gross Profit')\n",
    "#ax.set_xlabel('Genres')"
   ]
  },
  {
   "cell_type": "code",
   "execution_count": 24,
   "metadata": {},
   "outputs": [
    {
     "data": {
      "text/plain": [
       "Text(0.5,10.256,'Movie Genres')"
      ]
     },
     "execution_count": 24,
     "metadata": {},
     "output_type": "execute_result"
    },
    {
     "data": {
      "image/png": "[encoded data removed]",
      "text/plain": [
       "<matplotlib.figure.Figure at 0x7f84f7c03a58>"
      ]
     },
     "metadata": {},
     "output_type": "display_data"
    }
   ],
   "source": [
    "sns.set(font_scale=1.1)\n",
    "sns.set_style('darkgrid')\n",
    "gp = genre_profit.to_frame('profit')\n",
    "gp.reset_index(level=0, inplace=True)\n",
    "gp.columns = ['genre', 'profit']\n",
    "plot = sns.catplot(x='genre', y='profit', kind='bar', data=gp)\n",
    "plot.set_xticklabels(rotation=85)\n",
    "plot.fig.get_axes()[0].set_ylabel('Avg Profit per Movie')\n",
    "plot.fig.get_axes()[0].set_xlabel('Movie Genres')"
   ]
  },
  {
   "cell_type": "markdown",
   "metadata": {},
   "source": [
    "<a id='conclusions'></a>\n",
    "## Conclusions\n",
    "\n",
    "\n",
    "Overall, important information can be gathered when looking at the budet and revenue for the popularity of movies. The above plots, on average, show that with a decent budget a movie can be popular. There are a few outliers but for most part, looking at the groupings of each movie's budget showed that a movie needs a moderate budget to do well. \n",
    "A movie's revenue is also important to look at. Surprisingly, a small cohert of movies that did not have a high revenue return was still considered to be popular. For the most part though, revenue is a good indicator of how popular a movie is. "
   ]
  },
  {
   "cell_type": "code",
   "execution_count": null,
   "metadata": {},
   "outputs": [],
   "source": []
  }
 ],
 "metadata": {
  "kernelspec": {
   "display_name": "Python 3",
   "language": "python",
   "name": "python3"
  },
  "language_info": {
   "codemirror_mode": {
    "name": "ipython",
    "version": 3
   },
   "file_extension": ".py",
   "mimetype": "text/x-python",
   "name": "python",
   "nbconvert_exporter": "python",
   "pygments_lexer": "ipython3",
   "version": "3.6.8"
  }
 },
 "nbformat": 4,
 "nbformat_minor": 2
}
